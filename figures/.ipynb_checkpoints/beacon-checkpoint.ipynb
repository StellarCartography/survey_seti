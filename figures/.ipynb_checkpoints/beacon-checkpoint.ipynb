{
 "cells": [
  {
   "cell_type": "markdown",
   "metadata": {},
   "source": [
    "# Transit-Network\n",
    "Making plots for my SETI idea, dreamed up on the airplane home from AAS 227"
   ]
  },
  {
   "cell_type": "code",
   "execution_count": 39,
   "metadata": {
    "collapsed": true
   },
   "outputs": [],
   "source": [
    "%matplotlib inline\n",
    "import numpy as np\n",
    "import matplotlib.pyplot as plt\n",
    "import matplotlib.patches as mpatches\n",
    "import matplotlib.cm as cm"
   ]
  },
  {
   "cell_type": "markdown",
   "metadata": {},
   "source": [
    "The idea is simple: ET's would place artificial satellites in orbit around stars surrounding their home star system. The orbit period of the remote artificial satellites (or beacons) would be proportional to the distance from the remote star to the home star system. Each remote beacon system would be part of a network map leading to the home system. If the orbital period vs beacon distance relationship was known, the exact location of the home system could be triangulated using only a subset of the beacons."
   ]
  },
  {
   "cell_type": "code",
   "execution_count": 11,
   "metadata": {
    "collapsed": false
   },
   "outputs": [],
   "source": [
    "ab_dist = np.array([2., 3.,3.5, 6., 6.7, 7., 8.2, 14., 18., 20.])\n",
    "ab_per = ab_dist ** 1.5"
   ]
  },
  {
   "cell_type": "code",
   "execution_count": 23,
   "metadata": {
    "collapsed": false
   },
   "outputs": [
    {
     "data": {
      "image/png": "[encoded data removed]",
      "text/plain": [
       "<matplotlib.figure.Figure at 0x10d0f09d0>"
      ]
     },
     "metadata": {},
     "output_type": "display_data"
    }
   ],
   "source": [
    "# a figure of the 1-d projection, the key for SETI.\n",
    "plt.figure(figsize=(5,4))\n",
    "plt.plot(ab_dist, ab_per, 'k')\n",
    "plt.scatter(ab_dist, ab_per,color='k')\n",
    "plt.xlabel('Distance from Home System to Beacon System (pc)')\n",
    "plt.ylabel('Orbital Period of Beacon System (days)')\n",
    "plt.ylim(0,100)\n",
    "plt.savefig('dist_per.png', dpi=300)"
   ]
  },
  {
   "cell_type": "code",
   "execution_count": 47,
   "metadata": {
    "collapsed": false
   },
   "outputs": [],
   "source": [
    "# figure angle on sky to plot\n",
    "\n",
    "# theta = np.random.random(len(ab_dist)) * 2. * np.pi\n",
    "\n",
    " # freeze this random config, i like it\n",
    "theta = np.array([ 4.52448995,  3.46489278,  0.33872438,  1.6891746 ,  2.37611205,\n",
    "        2.72516744,  5.41764719,  4.01860732,  1.72938583,  0.60279578])\n",
    "x = ab_dist * np.cos(theta)\n",
    "y = ab_dist * np.sin(theta)"
   ]
  },
  {
   "cell_type": "code",
   "execution_count": 63,
   "metadata": {
    "collapsed": false
   },
   "outputs": [
    {
     "ename": "SyntaxError",
     "evalue": "invalid syntax (<ipython-input-63-346e747b9cb0>, line 8)",
     "output_type": "error",
     "traceback": [
      "\u001b[0;36m  File \u001b[0;32m\"<ipython-input-63-346e747b9cb0>\"\u001b[0;36m, line \u001b[0;32m8\u001b[0m\n\u001b[0;31m    circ = plt.Circle((0,0), radius=k, fc='none'),alpha=0.5)\u001b[0m\n\u001b[0m                                                           ^\u001b[0m\n\u001b[0;31mSyntaxError\u001b[0m\u001b[0;31m:\u001b[0m invalid syntax\n"
     ]
    }
   ],
   "source": [
    "# a figure of the 2-d observed (sky) plane \n",
    "\n",
    "plt.figure(figsize=(6,5))\n",
    "plt.axes()\n",
    "circ = plt.Circle((0,0), radius=1, fc='r')\n",
    "plt.gca().add_patch(circ)\n",
    "for k in range(5,29,3):\n",
    "    circ = plt.Circle((0,0), radius=k, fc='none',alpha=0.5)\n",
    "    plt.gca().add_patch(circ)\n",
    "\n",
    "plt.scatter(x,y, c=ab_per, cmap=cm.viridis_r)\n",
    "plt.xlim(-20,20)\n",
    "plt.ylim(-20,20)\n",
    "plt.xlabel('RA')\n",
    "plt.ylabel('Dec')\n",
    "cbar = plt.colorbar()\n",
    "cbar.set_label('Orbital Period of Beacon System')\n",
    "plt.savefig('sky_per.png', dpi=300)\n",
    "plt.show()"
   ]
  },
  {
   "cell_type": "code",
   "execution_count": null,
   "metadata": {
    "collapsed": true
   },
   "outputs": [],
   "source": []
  }
 ],
 "metadata": {
  "kernelspec": {
   "display_name": "Python 2",
   "language": "python",
   "name": "python2"
  },
  "language_info": {
   "codemirror_mode": {
    "name": "ipython",
    "version": 2
   },
   "file_extension": ".py",
   "mimetype": "text/x-python",
   "name": "python",
   "nbconvert_exporter": "python",
   "pygments_lexer": "ipython2",
   "version": "2.7.11"
  }
 },
 "nbformat": 4,
 "nbformat_minor": 0
}
