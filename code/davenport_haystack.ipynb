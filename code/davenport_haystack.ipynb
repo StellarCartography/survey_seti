{
 "cells": [
  {
   "cell_type": "code",
   "execution_count": 1,
   "metadata": {},
   "outputs": [],
   "source": [
    "%matplotlib inline\n",
    "import numpy as np\n",
    "import pandas as pd\n",
    "import matplotlib.pyplot as plt\n",
    "import matplotlib.cm as cm\n",
    "import matplotlib\n",
    "\n",
    "matplotlib.rcParams.update({'font.size':18})\n",
    "matplotlib.rcParams.update({'font.family':'serif'})\n",
    "\n",
    "ftype = '.pdf'"
   ]
  },
  {
   "cell_type": "code",
   "execution_count": 6,
   "metadata": {},
   "outputs": [],
   "source": [
    "from haystack_fraction_calculator import vol8d"
   ]
  },
  {
   "cell_type": "code",
   "execution_count": 7,
   "metadata": {},
   "outputs": [
    {
     "name": "stdout",
     "output_type": "stream",
     "text": [
      "Using given sky coverage values\n",
      "Observer Sensitivity = 1.700E+01 Jy\n",
      "Channel BW = 2.700E+00 Hz : Instrument BW = 8.000E+08 Hz\n",
      "Time on Target = 3.000E+02 s\n",
      "Sky Coverage = 1.060E+01 sq. degrees \n",
      "\n",
      "d_max = 3.260E+04 lyr : t_max = 2.000E+07 Hz f_max = 1.150E+11 Hz : f_min = 1.000E+07 Hz : Max. Rep Time = 1.000E+00 yr\n",
      "EIRP for sensitivity max = 1.000E+13 W\n",
      "\n",
      "\n",
      "Volume scanned in frequency (1), transmitter BW (1), distance (3), sensitivity (1), repetition rate (1) and polarization (1) dimensions (8d) for search = 2.42612E+98 Hz2 m5 s / W\n",
      "Total haystack volume in this 8d space = 6.39669E+116 Hz2 m5 s / W\n",
      "Total fraction of 8D volume for search = 3.79277E-19\n"
     ]
    },
    {
     "data": {
      "text/plain": [
       "(<Quantity 6.39668715e+116 Hz2 m5 s / W>, <Quantity 3.79277155e-19>)"
      ]
     },
     "execution_count": 7,
     "metadata": {},
     "output_type": "execute_result"
    }
   ],
   "source": [
    "vol8d()"
   ]
  },
  {
   "cell_type": "code",
   "execution_count": null,
   "metadata": {},
   "outputs": [],
   "source": []
  }
 ],
 "metadata": {
  "kernelspec": {
   "display_name": "Python 3",
   "language": "python",
   "name": "python3"
  },
  "language_info": {
   "codemirror_mode": {
    "name": "ipython",
    "version": 3
   },
   "file_extension": ".py",
   "mimetype": "text/x-python",
   "name": "python",
   "nbconvert_exporter": "python",
   "pygments_lexer": "ipython3",
   "version": "3.6.6"
  }
 },
 "nbformat": 4,
 "nbformat_minor": 2
}
