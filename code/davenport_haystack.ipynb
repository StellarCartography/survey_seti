{
 "cells": [
  {
   "cell_type": "code",
   "execution_count": 2,
   "metadata": {},
   "outputs": [],
   "source": [
    "%matplotlib inline\n",
    "import numpy as np\n",
    "import pandas as pd\n",
    "import matplotlib.pyplot as plt\n",
    "import matplotlib.cm as cm\n",
    "import matplotlib\n",
    "\n",
    "matplotlib.rcParams.update({'font.size':18})\n",
    "matplotlib.rcParams.update({'font.family':'serif'})\n",
    "\n",
    "ftype = '.pdf'"
   ]
  },
  {
   "cell_type": "code",
   "execution_count": 3,
   "metadata": {},
   "outputs": [],
   "source": [
    "from haystack_fraction_calculator import vol8d"
   ]
  },
  {
   "cell_type": "code",
   "execution_count": 4,
   "metadata": {},
   "outputs": [
    {
     "name": "stdout",
     "output_type": "stream",
     "text": [
      "Using given sky coverage values\n",
      "Observer Sensitivity = 1.700E+01 Jy\n",
      "Channel BW = 2.700E+00 Hz : Instrument BW = 8.000E+08 Hz\n",
      "Time on Target = 3.000E+02 s\n",
      "Sky Coverage = 1.060E+01 sq. degrees \n",
      "\n",
      "d_max = 3.260E+04 lyr : t_max = 2.000E+07 Hz f_max = 1.150E+11 Hz : f_min = 1.000E+07 Hz : Max. Rep Time = 1.000E+00 yr\n",
      "EIRP for sensitivity max = 1.000E+13 W\n",
      "\n",
      "Region 1 = 2.14851E+87 Hz2 m5 / W\n",
      "Region 2 = 4.60200E+94 Hz2 m5 / W\n",
      "Region 3 = 8.42970E+87 Hz2 m5 / W\n",
      "Region 4 = 2.50409E+98 Hz2 m5 / W\n",
      "Region 5 = 0.00000E+00 Hz2 m5 / W\n",
      "Region 6 = 0.00000E+00 Hz2 m5 / W\n",
      "\n",
      "Volume scanned in: frequency (1), transmitter BW (1), distance (3), sensitivity (1), repetition rate (1) and polarization (1) dimensions (8d) for search = 2.42612E+98 Hz2 m5 s / W\n",
      "Total haystack volume in this 8d space = 6.39669E+116 Hz2 m5 s / W\n",
      "Total fraction of 8D volume for search = 3.79277E-19\n"
     ]
    },
    {
     "data": {
      "text/plain": [
       "(<Quantity 6.39668715e+116 Hz2 m5 s / W>,\n",
       " <Quantity 2.4261173e+98 Hz2 m5 s / W>)"
      ]
     },
     "execution_count": 4,
     "metadata": {},
     "output_type": "execute_result"
    }
   ],
   "source": [
    "vol8d(verbose=True)"
   ]
  },
  {
   "cell_type": "code",
   "execution_count": 5,
   "metadata": {},
   "outputs": [
    {
     "name": "stdout",
     "output_type": "stream",
     "text": [
      "Using given sky coverage values\n",
      "Observer Sensitivity = 1.860E-05 Jy\n",
      "Channel BW = 1.000E+14 Hz : Instrument BW = 9.700E+13 Hz\n",
      "Time on Target = 2.610E+04 s\n",
      "Sky Coverage = 3.366E+04 sq. degrees \n",
      "\n",
      "d_max = 3.260E+04 lyr : t_max = 3.330E+14 Hz f_max = 9.990E+14 Hz : f_min = 3.330E+14 Hz : Max. Rep Time = 1.000E+00 yr\n",
      "EIRP for sensitivity max = 1.000E+13 W\n",
      "\n",
      "Region 1 = 1.05894E+87 Hz2 m5 / W\n",
      "Region 2 = 5.09993E+105 Hz2 m5 / W\n",
      "Region 3 = 0.00000E+00 Hz2 m5 / W\n",
      "Region 4 = 0.00000E+00 Hz2 m5 / W\n",
      "Region 5 = 1.00549E+87 Hz2 m5 / W\n",
      "Region 6 = 1.22205E+106 Hz2 m5 / W\n",
      "\n",
      "Volume scanned in: frequency (1), transmitter BW (1), distance (3), sensitivity (1), repetition rate (1) and polarization (1) dimensions (8d) for search = 4.63521E+111 Hz2 m5 s / W\n",
      "Total haystack volume in this 8d space = 6.16856E+127 Hz2 m5 s / W\n",
      "Total fraction of 8D volume for search = 7.51425E-17\n"
     ]
    }
   ],
   "source": [
    "ztf0, ztf1 = vol8d(hayfile='ZTF_boundaries.txt', searchfile='ZTF_parameters.txt', verbose=True)"
   ]
  },
  {
   "cell_type": "markdown",
   "metadata": {},
   "source": [
    "# ZTF result\n",
    "\n",
    "Using very simple assumptions/conversions, we see that ZTF offers a factor of 10-1000 better \"haystack\" coverage compared with the surveys listed in [Wright+2018](http://iopscience.iop.org/article/10.3847/1538-3881/aae099/meta)\n",
    "\n",
    "If Wright+2018 likened their analysis to a large hot tub (8000 L) versus the Earth's oceans (1.335e21 L), then with ZTF we can search a modest above-ground swimming pool *using only the r-band data*!\n",
    "\n",
    "<hr>"
   ]
  },
  {
   "cell_type": "code",
   "execution_count": 6,
   "metadata": {},
   "outputs": [
    {
     "name": "stdout",
     "output_type": "stream",
     "text": [
      "Using given sky coverage values\n",
      "Observer Sensitivity = 4.700E-07 Jy\n",
      "Channel BW = 1.000E+14 Hz : Instrument BW = 9.700E+13 Hz\n",
      "Time on Target = 3.000E+04 s\n",
      "Sky Coverage = 3.000E+04 sq. degrees \n",
      "\n",
      "d_max = 3.260E+04 lyr : t_max = 3.330E+14 Hz f_max = 9.990E+14 Hz : f_min = 3.330E+14 Hz : Max. Rep Time = 1.000E+00 yr\n",
      "EIRP for sensitivity max = 1.000E+13 W\n",
      "\n",
      "Region 1 = 1.04330E+91 Hz2 m5 / W\n",
      "Region 2 = 2.01827E+107 Hz2 m5 / W\n",
      "Region 3 = 0.00000E+00 Hz2 m5 / W\n",
      "Region 4 = 0.00000E+00 Hz2 m5 / W\n",
      "Region 5 = 9.90641E+90 Hz2 m5 / W\n",
      "Region 6 = 4.83621E+107 Hz2 m5 / W\n",
      "\n",
      "Volume scanned in: frequency (1), transmitter BW (1), distance (3), sensitivity (1), repetition rate (1) and polarization (1) dimensions (8d) for search = 1.87920E+113 Hz2 m5 s / W\n",
      "Total haystack volume in this 8d space = 6.16856E+127 Hz2 m5 s / W\n",
      "Total fraction of 8D volume for search = 3.04641E-15\n"
     ]
    }
   ],
   "source": [
    "lsst0, lsst1 = vol8d(hayfile='ZTF_boundaries.txt', searchfile='LSST_parameters.txt', verbose=True)"
   ]
  },
  {
   "cell_type": "markdown",
   "metadata": {},
   "source": [
    "# LSST result\n",
    "\n",
    "With LSST the fraction is improved by *at least* 2 orders of magnitude due to photometric depth and increased observing baseline, or ~2 olympic swimming pools\n",
    "\n",
    "<hr>"
   ]
  },
  {
   "cell_type": "code",
   "execution_count": 7,
   "metadata": {},
   "outputs": [
    {
     "name": "stdout",
     "output_type": "stream",
     "text": [
      "Using given sky coverage values\n",
      "Observer Sensitivity = 1.980E-04 Jy\n",
      "Channel BW = 1.000E+14 Hz : Instrument BW = 9.700E+13 Hz\n",
      "Time on Target = 2.628E+07 s\n",
      "Sky Coverage = 1.840E+04 sq. degrees \n",
      "\n",
      "d_max = 3.260E+04 lyr : t_max = 3.330E+14 Hz f_max = 9.990E+14 Hz : f_min = 3.330E+14 Hz : Max. Rep Time = 1.000E+00 yr\n",
      "EIRP for sensitivity max = 1.000E+13 W\n",
      "\n",
      "Region 1 = 2.86412E+84 Hz2 m5 / W\n",
      "Region 2 = 4.79084E+104 Hz2 m5 / W\n",
      "Region 3 = 0.00000E+00 Hz2 m5 / W\n",
      "Region 4 = 0.00000E+00 Hz2 m5 / W\n",
      "Region 5 = 2.71956E+84 Hz2 m5 / W\n",
      "Region 6 = 1.14799E+105 Hz2 m5 / W\n",
      "\n",
      "Volume scanned in: frequency (1), transmitter BW (1), distance (3), sensitivity (1), repetition rate (1) and polarization (1) dimensions (8d) for search = 2.39665E+113 Hz2 m5 s / W\n",
      "Total haystack volume in this 8d space = 6.16856E+127 Hz2 m5 s / W\n",
      "Total fraction of 8D volume for search = 3.88528E-15\n"
     ]
    }
   ],
   "source": [
    "evry0, evry1 = vol8d(hayfile='ZTF_boundaries.txt', searchfile='evryscope_parameters.txt', verbose=True)"
   ]
  },
  {
   "cell_type": "markdown",
   "metadata": {},
   "source": [
    "# Evryscope result\n",
    "\n",
    "With Evryscope, if we use the 1-hour integrations of 2-min cadence (V=18.2 mag depth) the Haystack completness is actually comparable to LSST due to the incredible light curve coverage!\n",
    "\n",
    "and with the 2-min depth (V=16.4), we're right between ZTF & LSST.\n",
    "\n",
    "<hr>"
   ]
  },
  {
   "cell_type": "code",
   "execution_count": 8,
   "metadata": {},
   "outputs": [
    {
     "name": "stdout",
     "output_type": "stream",
     "text": [
      "Using given sky coverage values\n",
      "Observer Sensitivity = 1.000E-03 Jy\n",
      "Channel BW = 1.000E+14 Hz : Instrument BW = 9.700E+13 Hz\n",
      "Time on Target = 2.330E+06 s\n",
      "Sky Coverage = 3.523E+04 sq. degrees \n",
      "\n",
      "d_max = 3.260E+04 lyr : t_max = 3.330E+14 Hz f_max = 9.990E+14 Hz : f_min = 3.330E+14 Hz : Max. Rep Time = 1.000E+00 yr\n",
      "EIRP for sensitivity max = 1.000E+13 W\n",
      "\n",
      "Region 1 = 4.99637E+82 Hz2 m5 / W\n",
      "Region 2 = 9.48587E+103 Hz2 m5 / W\n",
      "Region 3 = 0.00000E+00 Hz2 m5 / W\n",
      "Region 4 = 0.00000E+00 Hz2 m5 / W\n",
      "Region 5 = 4.74418E+82 Hz2 m5 / W\n",
      "Region 6 = 2.27302E+104 Hz2 m5 / W\n",
      "\n",
      "Volume scanned in: frequency (1), transmitter BW (1), distance (3), sensitivity (1), repetition rate (1) and polarization (1) dimensions (8d) for search = 8.05534E+111 Hz2 m5 s / W\n",
      "Total haystack volume in this 8d space = 6.16856E+127 Hz2 m5 s / W\n",
      "Total fraction of 8D volume for search = 1.30587E-16\n"
     ]
    }
   ],
   "source": [
    "tess0, tess1 = vol8d(hayfile='ZTF_boundaries.txt', searchfile='TESS_parameters.txt', verbose=True)"
   ]
  },
  {
   "cell_type": "markdown",
   "metadata": {},
   "source": [
    "# TESS result\n",
    "\n",
    "Like Evryscope, TESS has very dense light curves (at least 27 days worth) and very wide sky coverage. Despite the relatively shallow depth (1% photometry at 16th mag), TESS is an excellent platform to hunt for technosignatures."
   ]
  },
  {
   "cell_type": "code",
   "execution_count": 9,
   "metadata": {},
   "outputs": [
    {
     "data": {
      "image/png": "[encoded data removed]",
      "text/plain": [
       "<Figure size 432x288 with 1 Axes>"
      ]
     },
     "metadata": {
      "needs_background": "light"
     },
     "output_type": "display_data"
    }
   ],
   "source": []
  },
  {
   "cell_type": "code",
   "execution_count": null,
   "metadata": {},
   "outputs": [],
   "source": []
  },
  {
   "cell_type": "markdown",
   "metadata": {},
   "source": [
    "# CRTS result\n",
    "\n",
    "Catalina Real-time Transient Survey"
   ]
  },
  {
   "cell_type": "code",
   "execution_count": 24,
   "metadata": {},
   "outputs": [
    {
     "name": "stdout",
     "output_type": "stream",
     "text": [
      "Using given sky coverage values\n",
      "Observer Sensitivity = 5.990E-05 Jy\n",
      "Channel BW = 1.000E+14 Hz : Instrument BW = 9.700E+13 Hz\n",
      "Time on Target = 7.500E+03 s\n",
      "Sky Coverage = 3.300E+04 sq. degrees \n",
      "\n",
      "d_max = 3.260E+04 lyr : t_max = 3.330E+14 Hz f_max = 9.990E+14 Hz : f_min = 3.330E+14 Hz : Max. Rep Time = 1.000E+00 yr\n",
      "EIRP for sensitivity max = 1.000E+13 W\n",
      "\n",
      "Region 1 = 5.68968E+85 Hz2 m5 / W\n",
      "Region 2 = 1.58362E+105 Hz2 m5 / W\n",
      "Region 3 = 0.00000E+00 Hz2 m5 / W\n",
      "Region 4 = 0.00000E+00 Hz2 m5 / W\n",
      "Region 5 = 5.40249E+85 Hz2 m5 / W\n",
      "Region 6 = 3.79469E+105 Hz2 m5 / W\n",
      "\n",
      "Volume scanned in: frequency (1), transmitter BW (1), distance (3), sensitivity (1), repetition rate (1) and polarization (1) dimensions (8d) for search = 4.05486E+110 Hz2 m5 s / W\n",
      "Total haystack volume in this 8d space = 6.16856E+127 Hz2 m5 s / W\n",
      "Total fraction of 8D volume for search = 6.57343E-18\n"
     ]
    }
   ],
   "source": [
    "crts0, crts1 = vol8d(hayfile='ZTF_boundaries.txt', searchfile='CRTS_parameters.txt', verbose=True)"
   ]
  },
  {
   "cell_type": "code",
   "execution_count": 25,
   "metadata": {},
   "outputs": [
    {
     "data": {
      "text/latex": [
       "$-17.182208 \\; \\mathrm{}$"
      ],
      "text/plain": [
       "<Quantity -17.18220767>"
      ]
     },
     "execution_count": 25,
     "metadata": {},
     "output_type": "execute_result"
    }
   ],
   "source": [
    "np.log10(crts1/crts0)"
   ]
  },
  {
   "cell_type": "markdown",
   "metadata": {},
   "source": [
    "# A Comparison Plot"
   ]
  },
  {
   "cell_type": "code",
   "execution_count": 26,
   "metadata": {},
   "outputs": [
    {
     "data": {
      "image/png": "[encoded data removed]",
      "text/plain": [
       "<Figure size 576x360 with 1 Axes>"
      ]
     },
     "metadata": {
      "needs_background": "light"
     },
     "output_type": "display_data"
    }
   ],
   "source": [
    "plt.figure(figsize=(8,5))\n",
    "\n",
    "# plt.scatter(np.arange(4), [np.log10(ztf1/ztf0), np.log10(tess1/tess0), np.log10(lsst1/lsst0), np.log10(evry1/evry0)],\n",
    "#            marker='o', s=100, alpha=0.7, c='k')\n",
    "# plt.xticks(np.arange(4), ['ZTF', 'TESS', 'LSST', 'Evry'])\n",
    "\n",
    "\n",
    "plt.scatter(np.arange(5), [np.log10(crts1/crts0), np.log10(ztf1/ztf0), np.log10(tess1/tess0), \n",
    "                           np.log10(lsst1/lsst0), np.log10(evry1/evry0)],\n",
    "           marker='o', s=100, alpha=0.7, c='k')\n",
    "plt.xticks(np.arange(5), ['CRTS','ZTF', 'TESS', 'LSST', 'Evry'])\n",
    "\n",
    "\n",
    "plt.grid(True, alpha=0.3)\n",
    "plt.ylabel('log $V_{Haystack}$')\n",
    "plt.savefig('../figures/optical_haystack.pdf', dpi=300, bbox_inches='tight', pad_inches=0.25)"
   ]
  },
  {
   "cell_type": "code",
   "execution_count": null,
   "metadata": {},
   "outputs": [],
   "source": []
  }
 ],
 "metadata": {
  "kernelspec": {
   "display_name": "Python 3",
   "language": "python",
   "name": "python3"
  },
  "language_info": {
   "codemirror_mode": {
    "name": "ipython",
    "version": 3
   },
   "file_extension": ".py",
   "mimetype": "text/x-python",
   "name": "python",
   "nbconvert_exporter": "python",
   "pygments_lexer": "ipython3",
   "version": "3.7.1"
  }
 },
 "nbformat": 4,
 "nbformat_minor": 2
}
